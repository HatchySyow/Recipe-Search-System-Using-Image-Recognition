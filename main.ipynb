{
  "cells": [
    {
      "cell_type": "markdown",
      "metadata": {
        "id": "-V4k_8HcgPUd"
      },
      "source": [
        "**1.左側の実行ボタンをクリックし，プログラムを実行してください．**\n",
        "\n",
        "**2.プログラムを実行すると，「ファイルを選択」というボタンが表示されるのでクリックしてください．**\n",
        "\n",
        "**3.デバイス内の画像ファイルを選択¹，またはカメラを起動して画像を撮影²し，ファイルをアップロードしてください．**\n",
        "\n",
        "**4.画像に含まれる食材³を使ったレシピを検索した結果が表示されます．**\n",
        "\n",
        "\n",
        "\n",
        "※1 対応している画像ファイルはbmp、dib、pbm、pgm、ppm、pnm、sr、ras、jpeg、jpg、jpe、jp2、png、tiff、tifです．\n",
        "\n",
        "※2 iOSで対応していただいている方は，お手数ですが以下の手順でカメラの画像フォーマットを変更してください．\n",
        "\n",
        "(1)設定アプリを起動\n",
        "\n",
        "(2)「カメラ」→「フォーマット」の順にタップ\n",
        "\n",
        "(3)「互換性優先」を選択\n",
        "\n",
        "※3 現在は「ニンジン，ブロッコリー，リンゴ，バナナ，オレンジ」の画像認識に対応しています．それ以外の食材は申し訳ありませんが対応しておりません．"
      ]
    },
    {
      "cell_type": "markdown",
      "metadata": {
        "id": "jZqCqYO0c_IV"
      },
      "source": [
        "# 画像認識を用いたレシピ検索システム"
      ]
    },
    {
      "cell_type": "code",
      "execution_count": null,
      "metadata": {
        "id": "GZUzdTV_cWdj"
      },
      "outputs": [],
      "source": [
        "from google.colab import files\n",
        "from bs4 import BeautifulSoup\n",
        "from google.colab.patches import cv2_imshow\n",
        "\n",
        "import cv2\n",
        "import torch\n",
        "import requests\n",
        "import numpy as np\n",
        "\n",
        "#画像をアップロードする\n",
        "uploaded = files.upload()\n",
        "\n",
        "key = list(uploaded.keys())[0]\n",
        "input_img = uploaded[key]\n",
        "\n",
        "#バイト列→numpy配列変換，デコード，BGR→RGB色空間変換\n",
        "input_img = np.frombuffer(input_img, dtype=np.uint8)\n",
        "input_img = cv2.imdecode(input_img, cv2.IMREAD_COLOR)\n",
        "input_img = cv2.cvtColor(input_img, cv2.COLOR_BGR2RGB)\n",
        "\n",
        "#画像を表示\n",
        "cv2_imshow(input_img)\n",
        "\n",
        "model = torch.hub.load('ultralytics/yolov5', 'yolov5s')\n",
        "\n",
        "#入力画像を推論\n",
        "results = model(input_img)\n",
        "\n",
        "#結果の出力\n",
        "results.show()\n",
        "\n",
        "#結果を文字列形式で出力する\n",
        "results_str = results.__str__()\n",
        "\n",
        "#文字列で表示された結果の改行以降を削除する\n",
        "first_line = results_str.split('\\n')[0]\n",
        "print(first_line)\n",
        "\n",
        "#文字列をスペースで分割してリストに変換する\n",
        "results_list = first_line.split(\" \")\n",
        "\n",
        "#リスト内から物体の数を抽出する\n",
        "num_of_objects = int(results_list[3])\n",
        "\n",
        "#結果から物体が存在するかどうかを判定する\n",
        "if results_list[3] == '(no':\n",
        "  #物体が存在しない場合は、物体の数を0とする\n",
        "  num_of_objects = 0\n",
        "else:\n",
        "  #物体が存在する場合は、物体の数を数値として取得する\n",
        "  num_of_objects = int(results_list[3])\n",
        "\n",
        "#リスト内から物体のクラス名だけを抽出する\n",
        "class_name_list = []\n",
        "for i in range(num_of_objects):\n",
        "  #インデックスが負の値になるような式を書かないようにする\n",
        "  #物体の数だけ繰り返し、要素を追加していく\n",
        "  if i + 4 < len(results_list):\n",
        "    class_name_list.append(results_list[i+4])\n",
        "\n",
        "#物体のクラス名を表示する\n",
        "print(class_name_list)\n",
        "\n",
        "#Cookpad 検索にリクエストを送信し、レシピの一覧を取得する\n",
        "#画像認識で推定された物体の名前をそのまま使用して検索する\n",
        "response = requests.get(f\"https://cookpad.com/search/{'+'.join(class_name_list)}\")\n",
        "\n",
        "#取得したレスポンスからレシピの一覧を抽出する\n",
        "#レシピの一覧を簡単に抽出するために BeautifulSoup を使用\n",
        "soup = BeautifulSoup(response.text, 'html.parser')\n",
        "\n",
        "recipe_list = []\n",
        "for recipe_tag in soup.find_all('a', class_='recipe-title'):\n",
        "    recipe_title = recipe_tag.text\n",
        "    recipe_url = recipe_tag['href']\n",
        "    recipe_list.append({'title': recipe_title, 'url': recipe_url})\n",
        "\n",
        "#レシピの一覧を表示する\n",
        "for recipe in recipe_list:\n",
        "    print(f\"タイトル: {recipe['title']}\")\n",
        "    print(f\"URL: https://cookpad.com{recipe['url']}\")"
      ]
    }
  ],
  "metadata": {
    "colab": {
      "provenance": []
    },
    "kernelspec": {
      "display_name": "Python 3",
      "name": "python3"
    },
    "language_info": {
      "name": "python"
    }
  },
  "nbformat": 4,
  "nbformat_minor": 0
}
